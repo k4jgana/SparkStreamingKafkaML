{
  "cells": [
    {
      "cell_type": "code",
      "execution_count": 1,
      "metadata": {
        "colab": {
          "base_uri": "https://localhost:8080/"
        },
        "id": "YvtzCN_W4D71",
        "outputId": "082bb1df-5330-484c-842d-9b7acc137b6e"
      },
      "outputs": [
        {
          "name": "stdout",
          "output_type": "stream",
          "text": [
            "Looking in indexes: https://pypi.org/simple, https://us-python.pkg.dev/colab-wheels/public/simple/\n",
            "Collecting pyspark\n",
            "  Downloading pyspark-3.3.1.tar.gz (281.4 MB)\n",
            "\u001b[2K     \u001b[90m━━━━━━━━━━━━━━━━━━━━━━━━━━━━━━━━━━━━━━━\u001b[0m \u001b[32m281.4/281.4 MB\u001b[0m \u001b[31m2.9 MB/s\u001b[0m eta \u001b[36m0:00:00\u001b[0m\n",
            "\u001b[?25h  Preparing metadata (setup.py) ... \u001b[?25l\u001b[?25hdone\n",
            "Collecting py4j==0.10.9.5\n",
            "  Downloading py4j-0.10.9.5-py2.py3-none-any.whl (199 kB)\n",
            "\u001b[2K     \u001b[90m━━━━━━━━━━━━━━━━━━━━━━━━━━━━━━━━━━━━━━\u001b[0m \u001b[32m199.7/199.7 KB\u001b[0m \u001b[31m19.3 MB/s\u001b[0m eta \u001b[36m0:00:00\u001b[0m\n",
            "\u001b[?25hBuilding wheels for collected packages: pyspark\n",
            "  Building wheel for pyspark (setup.py) ... \u001b[?25l\u001b[?25hdone\n",
            "  Created wheel for pyspark: filename=pyspark-3.3.1-py2.py3-none-any.whl size=281845512 sha256=79f05f33828659a1f5fb436b706aff164375a338e41d4b62fc68c768f5d6349f\n",
            "  Stored in directory: /root/.cache/pip/wheels/43/dc/11/ec201cd671da62fa9c5cc77078235e40722170ceba231d7598\n",
            "Successfully built pyspark\n",
            "Installing collected packages: py4j, pyspark\n",
            "Successfully installed py4j-0.10.9.5 pyspark-3.3.1\n"
          ]
        }
      ],
      "source": [
        "# !pip install pyspark"
      ]
    },
    {
      "cell_type": "code",
      "execution_count": 21,
      "metadata": {
        "id": "XZSHqwXw6HTa"
      },
      "outputs": [],
      "source": [
        "from pyspark.ml.classification import LogisticRegression\n",
        "import pandas as pd\n",
        "import numpy as np\n",
        "import matplotlib.pyplot as plt\n",
        "import seaborn as sns\n",
        "from pyspark.ml.feature import VectorAssembler\n",
        "from sklearn.model_selection import train_test_split,cross_val_score,RepeatedStratifiedKFold\n",
        "from sklearn.preprocessing import StandardScaler\n",
        "from sklearn.metrics import accuracy_score,confusion_matrix,classification_report,f1_score,recall_score\n",
        "from sklearn.model_selection import KFold \n",
        "from sklearn.model_selection import GridSearchCV\n",
        "from sklearn.ensemble import VotingClassifier,BaggingClassifier,AdaBoostClassifier,RandomForestClassifier,ExtraTreesClassifier\n",
        "from pyspark.ml.pipeline import PipelineModel\n",
        "from pyspark.ml import Pipeline\n",
        "%matplotlib inline"
      ]
    },
    {
      "cell_type": "code",
      "execution_count": 3,
      "metadata": {
        "id": "-iKkWJvson9D"
      },
      "outputs": [],
      "source": [
        "import pyspark as spark\n",
        "from pyspark.sql import SparkSession\n",
        "spark=SparkSession.builder.appName('ml-diab').getOrCreate()"
      ]
    },
    {
      "cell_type": "code",
      "execution_count": 5,
      "metadata": {
        "id": "TucGswsOEyi6"
      },
      "outputs": [],
      "source": [
        "url='/content/drive/MyDrive/diabetes_binary_5050split_health_indicators_BRFSS2015.csv'\n",
        "# url='https://drive.google.com/uc?id=' + url.split('/')[-2]\n",
        "df=spark.read.csv(url,inferSchema=True,header=True)"
      ]
    },
    {
      "cell_type": "code",
      "execution_count": 6,
      "metadata": {
        "colab": {
          "base_uri": "https://localhost:8080/"
        },
        "id": "yuoOIBrYFkTa",
        "outputId": "334ff2a8-243d-4d86-afe8-d5ef034e7a95"
      },
      "outputs": [
        {
          "name": "stdout",
          "output_type": "stream",
          "text": [
            "+---------------+------+--------+---------+----+------+------+--------------------+------------+------+-------+-----------------+-------------+-----------+-------+--------+--------+--------+---+----+---------+------+\n",
            "|Diabetes_binary|HighBP|HighChol|CholCheck| BMI|Smoker|Stroke|HeartDiseaseorAttack|PhysActivity|Fruits|Veggies|HvyAlcoholConsump|AnyHealthcare|NoDocbcCost|GenHlth|MentHlth|PhysHlth|DiffWalk|Sex| Age|Education|Income|\n",
            "+---------------+------+--------+---------+----+------+------+--------------------+------------+------+-------+-----------------+-------------+-----------+-------+--------+--------+--------+---+----+---------+------+\n",
            "|            0.0|   1.0|     0.0|      1.0|26.0|   0.0|   0.0|                 0.0|         1.0|   0.0|    1.0|              0.0|          1.0|        0.0|    3.0|     5.0|    30.0|     0.0|1.0| 4.0|      6.0|   8.0|\n",
            "|            0.0|   1.0|     1.0|      1.0|26.0|   1.0|   1.0|                 0.0|         0.0|   1.0|    0.0|              0.0|          1.0|        0.0|    3.0|     0.0|     0.0|     0.0|1.0|12.0|      6.0|   8.0|\n",
            "|            0.0|   0.0|     0.0|      1.0|26.0|   0.0|   0.0|                 0.0|         1.0|   1.0|    1.0|              0.0|          1.0|        0.0|    1.0|     0.0|    10.0|     0.0|1.0|13.0|      6.0|   8.0|\n",
            "|            0.0|   1.0|     1.0|      1.0|28.0|   1.0|   0.0|                 0.0|         1.0|   1.0|    1.0|              0.0|          1.0|        0.0|    3.0|     0.0|     3.0|     0.0|1.0|11.0|      6.0|   8.0|\n",
            "|            0.0|   0.0|     0.0|      1.0|29.0|   1.0|   0.0|                 0.0|         1.0|   1.0|    1.0|              0.0|          1.0|        0.0|    2.0|     0.0|     0.0|     0.0|0.0| 8.0|      5.0|   8.0|\n",
            "|            0.0|   0.0|     0.0|      1.0|18.0|   0.0|   0.0|                 0.0|         1.0|   1.0|    1.0|              0.0|          0.0|        0.0|    2.0|     7.0|     0.0|     0.0|0.0| 1.0|      4.0|   7.0|\n",
            "|            0.0|   0.0|     1.0|      1.0|26.0|   1.0|   0.0|                 0.0|         1.0|   1.0|    1.0|              1.0|          1.0|        0.0|    1.0|     0.0|     0.0|     0.0|1.0|13.0|      5.0|   6.0|\n",
            "|            0.0|   0.0|     0.0|      1.0|31.0|   1.0|   0.0|                 0.0|         0.0|   1.0|    1.0|              0.0|          1.0|        0.0|    4.0|     0.0|     0.0|     0.0|1.0| 6.0|      4.0|   3.0|\n",
            "|            0.0|   0.0|     0.0|      1.0|32.0|   0.0|   0.0|                 0.0|         1.0|   1.0|    1.0|              0.0|          1.0|        0.0|    3.0|     0.0|     0.0|     0.0|0.0| 3.0|      6.0|   8.0|\n",
            "|            0.0|   0.0|     0.0|      1.0|27.0|   1.0|   0.0|                 0.0|         0.0|   1.0|    1.0|              0.0|          1.0|        0.0|    3.0|     0.0|     6.0|     0.0|1.0| 6.0|      4.0|   4.0|\n",
            "|            0.0|   1.0|     1.0|      1.0|24.0|   1.0|   0.0|                 1.0|         1.0|   1.0|    1.0|              0.0|          1.0|        0.0|    3.0|     0.0|     4.0|     0.0|0.0|12.0|      4.0|   6.0|\n",
            "|            0.0|   0.0|     0.0|      1.0|21.0|   0.0|   0.0|                 0.0|         1.0|   1.0|    1.0|              0.0|          1.0|        0.0|    1.0|     0.0|     0.0|     0.0|1.0| 4.0|      6.0|   8.0|\n",
            "|            0.0|   1.0|     1.0|      1.0|27.0|   0.0|   0.0|                 0.0|         1.0|   1.0|    1.0|              0.0|          1.0|        0.0|    2.0|     0.0|     0.0|     0.0|1.0| 7.0|      6.0|   8.0|\n",
            "|            0.0|   1.0|     0.0|      1.0|58.0|   0.0|   0.0|                 0.0|         0.0|   1.0|    1.0|              0.0|          1.0|        0.0|    3.0|     3.0|     3.0|     0.0|1.0|10.0|      4.0|   6.0|\n",
            "|            0.0|   0.0|     1.0|      1.0|29.0|   1.0|   0.0|                 0.0|         1.0|   1.0|    0.0|              0.0|          1.0|        0.0|    1.0|     0.0|     0.0|     1.0|0.0|10.0|      5.0|   1.0|\n",
            "|            0.0|   0.0|     0.0|      1.0|18.0|   1.0|   0.0|                 0.0|         1.0|   1.0|    0.0|              0.0|          1.0|        0.0|    3.0|     0.0|     0.0|     0.0|0.0|10.0|      4.0|   6.0|\n",
            "|            0.0|   0.0|     0.0|      1.0|30.0|   0.0|   0.0|                 0.0|         1.0|   0.0|    1.0|              0.0|          1.0|        0.0|    2.0|     0.0|     0.0|     0.0|0.0| 9.0|      5.0|   7.0|\n",
            "|            0.0|   0.0|     0.0|      1.0|30.0|   1.0|   0.0|                 0.0|         1.0|   1.0|    1.0|              0.0|          1.0|        0.0|    1.0|     0.0|     0.0|     0.0|1.0|10.0|      6.0|   7.0|\n",
            "|            0.0|   0.0|     0.0|      1.0|20.0|   0.0|   0.0|                 0.0|         1.0|   1.0|    1.0|              0.0|          1.0|        0.0|    2.0|     0.0|     0.0|     0.0|0.0| 8.0|      6.0|   8.0|\n",
            "|            0.0|   1.0|     0.0|      1.0|26.0|   0.0|   0.0|                 0.0|         0.0|   1.0|    1.0|              0.0|          0.0|        1.0|    3.0|     0.0|    15.0|     0.0|1.0| 7.0|      5.0|   5.0|\n",
            "+---------------+------+--------+---------+----+------+------+--------------------+------------+------+-------+-----------------+-------------+-----------+-------+--------+--------+--------+---+----+---------+------+\n",
            "only showing top 20 rows\n",
            "\n"
          ]
        }
      ],
      "source": [
        "df.show()"
      ]
    },
    {
      "cell_type": "code",
      "execution_count": 7,
      "metadata": {
        "colab": {
          "base_uri": "https://localhost:8080/"
        },
        "id": "ZhAnxcvMFxqF",
        "outputId": "ad90ade6-b077-49c6-c7d3-1933133a573f"
      },
      "outputs": [
        {
          "name": "stdout",
          "output_type": "stream",
          "text": [
            "+-------+------------------+-------------------+------------------+-------------------+------------------+------------------+-------------------+--------------------+------------------+------------------+------------------+-------------------+-------------------+-------------------+------------------+------------------+------------------+-------------------+------------------+------------------+------------------+------------------+\n",
            "|summary|   Diabetes_binary|             HighBP|          HighChol|          CholCheck|               BMI|            Smoker|             Stroke|HeartDiseaseorAttack|      PhysActivity|            Fruits|           Veggies|  HvyAlcoholConsump|      AnyHealthcare|        NoDocbcCost|           GenHlth|          MentHlth|          PhysHlth|           DiffWalk|               Sex|               Age|         Education|            Income|\n",
            "+-------+------------------+-------------------+------------------+-------------------+------------------+------------------+-------------------+--------------------+------------------+------------------+------------------+-------------------+-------------------+-------------------+------------------+------------------+------------------+-------------------+------------------+------------------+------------------+------------------+\n",
            "|  count|             70692|              70692|             70692|              70692|             70692|             70692|              70692|               70692|             70692|             70692|             70692|              70692|              70692|              70692|             70692|             70692|             70692|              70692|             70692|             70692|             70692|             70692|\n",
            "|   mean|               0.5| 0.5634583828438862|0.5257030498500538|  0.975258869461891|29.856985231709388|0.4752730153341255| 0.0621711084705483|  0.1478102189781022|0.7030357041815198| 0.611794828269111| 0.788773835794715|0.04272053414813557| 0.9549595428054094|0.09391444576472585| 2.837081989475471|3.7520370056017653| 5.810417020313473|0.25273015334125504|0.4569965484071748| 8.584054772817291| 4.920952865953715| 5.698310982855203|\n",
            "| stddev|0.5000035365055782|0.49596019315986284|0.4993424480263351|0.15533624280406588| 7.113953851576778|0.4993917341107828|0.24146777536770814|  0.3549142713619424|0.4569239063509657|0.4873451303661188|0.4081813673269248|0.20222776421845487|0.20739436554190968| 0.2917117179591932|1.1135645170395425| 8.155626553608043|10.062260531163895|0.43458059612338523|0.4981507939458703|2.8521531099513346|1.0290808004847722|2.1751959759183523|\n",
            "|    min|               0.0|                0.0|               0.0|                0.0|              12.0|               0.0|                0.0|                 0.0|               0.0|               0.0|               0.0|                0.0|                0.0|                0.0|               1.0|               0.0|               0.0|                0.0|               0.0|               1.0|               1.0|               1.0|\n",
            "|    max|               1.0|                1.0|               1.0|                1.0|              98.0|               1.0|                1.0|                 1.0|               1.0|               1.0|               1.0|                1.0|                1.0|                1.0|               5.0|              30.0|              30.0|                1.0|               1.0|              13.0|               6.0|               8.0|\n",
            "+-------+------------------+-------------------+------------------+-------------------+------------------+------------------+-------------------+--------------------+------------------+------------------+------------------+-------------------+-------------------+-------------------+------------------+------------------+------------------+-------------------+------------------+------------------+------------------+------------------+\n",
            "\n"
          ]
        }
      ],
      "source": [
        "df.describe().show()"
      ]
    },
    {
      "cell_type": "code",
      "execution_count": 8,
      "metadata": {
        "colab": {
          "base_uri": "https://localhost:8080/"
        },
        "id": "rhEwEYYM38Xg",
        "outputId": "341ae0a4-ca6a-444f-d953-ec22339823df"
      },
      "outputs": [
        {
          "data": {
            "text/plain": [
              "[('Diabetes_binary', 'double'),\n",
              " ('HighBP', 'double'),\n",
              " ('HighChol', 'double'),\n",
              " ('CholCheck', 'double'),\n",
              " ('BMI', 'double'),\n",
              " ('Smoker', 'double'),\n",
              " ('Stroke', 'double'),\n",
              " ('HeartDiseaseorAttack', 'double'),\n",
              " ('PhysActivity', 'double'),\n",
              " ('Fruits', 'double'),\n",
              " ('Veggies', 'double'),\n",
              " ('HvyAlcoholConsump', 'double'),\n",
              " ('AnyHealthcare', 'double'),\n",
              " ('NoDocbcCost', 'double'),\n",
              " ('GenHlth', 'double'),\n",
              " ('MentHlth', 'double'),\n",
              " ('PhysHlth', 'double'),\n",
              " ('DiffWalk', 'double'),\n",
              " ('Sex', 'double'),\n",
              " ('Age', 'double'),\n",
              " ('Education', 'double'),\n",
              " ('Income', 'double')]"
            ]
          },
          "execution_count": 8,
          "metadata": {},
          "output_type": "execute_result"
        }
      ],
      "source": [
        "df.dtypes"
      ]
    },
    {
      "cell_type": "code",
      "execution_count": 9,
      "metadata": {
        "colab": {
          "base_uri": "https://localhost:8080/"
        },
        "id": "mkjq1lSw4XUx",
        "outputId": "0d7172c0-fe5e-4a54-9316-f72a561e50d4"
      },
      "outputs": [
        {
          "data": {
            "text/plain": [
              "21"
            ]
          },
          "execution_count": 9,
          "metadata": {},
          "output_type": "execute_result"
        }
      ],
      "source": [
        "len(df.columns[1:])"
      ]
    },
    {
      "cell_type": "code",
      "execution_count": 10,
      "metadata": {
        "id": "zIG46E--4Or1"
      },
      "outputs": [],
      "source": [
        "assembler=VectorAssembler(inputCols=df.columns[1:],outputCol='features')"
      ]
    },
    {
      "cell_type": "code",
      "execution_count": 11,
      "metadata": {
        "id": "H9GsD7fb4kAw"
      },
      "outputs": [],
      "source": [
        "final_df=assembler.transform(df)"
      ]
    },
    {
      "cell_type": "code",
      "execution_count": 12,
      "metadata": {
        "colab": {
          "base_uri": "https://localhost:8080/"
        },
        "id": "AQvZWR5A4tyU",
        "outputId": "6b11d0ff-3f9e-4eae-ebe0-9c9df35f01e1"
      },
      "outputs": [
        {
          "name": "stdout",
          "output_type": "stream",
          "text": [
            "+--------------------+---------------+\n",
            "|            features|Diabetes_binary|\n",
            "+--------------------+---------------+\n",
            "|[1.0,0.0,1.0,26.0...|            0.0|\n",
            "|[1.0,1.0,1.0,26.0...|            0.0|\n",
            "|(21,[2,3,7,8,9,11...|            0.0|\n",
            "|[1.0,1.0,1.0,28.0...|            0.0|\n",
            "|(21,[2,3,4,7,8,9,...|            0.0|\n",
            "|(21,[2,3,7,8,9,13...|            0.0|\n",
            "|[0.0,1.0,1.0,26.0...|            0.0|\n",
            "|(21,[2,3,4,8,9,11...|            0.0|\n",
            "|(21,[2,3,7,8,9,11...|            0.0|\n",
            "|(21,[2,3,4,8,9,11...|            0.0|\n",
            "|[1.0,1.0,1.0,24.0...|            0.0|\n",
            "|(21,[2,3,7,8,9,11...|            0.0|\n",
            "|[1.0,1.0,1.0,27.0...|            0.0|\n",
            "|[1.0,0.0,1.0,58.0...|            0.0|\n",
            "|(21,[1,2,3,4,7,8,...|            0.0|\n",
            "|(21,[2,3,4,7,8,11...|            0.0|\n",
            "|(21,[2,3,7,9,11,1...|            0.0|\n",
            "|(21,[2,3,4,7,8,9,...|            0.0|\n",
            "|(21,[2,3,7,8,9,11...|            0.0|\n",
            "|(21,[0,2,3,8,9,12...|            0.0|\n",
            "+--------------------+---------------+\n",
            "only showing top 20 rows\n",
            "\n"
          ]
        }
      ],
      "source": [
        "final_df.select('features','Diabetes_binary').show()"
      ]
    },
    {
      "cell_type": "code",
      "execution_count": 13,
      "metadata": {
        "colab": {
          "base_uri": "https://localhost:8080/"
        },
        "id": "rMhr-65o9VqX",
        "outputId": "0159c374-bd84-4e24-b3b9-8c1410f889d8"
      },
      "outputs": [
        {
          "name": "stdout",
          "output_type": "stream",
          "text": [
            "root\n",
            " |-- features: vector (nullable = true)\n",
            " |-- label: double (nullable = true)\n",
            "\n"
          ]
        }
      ],
      "source": [
        "model_df = final_df.select(['features','Diabetes_binary'])\n",
        "model_df = model_df.withColumnRenamed(\"Diabetes_binary\",\"label\")\n",
        "model_df.printSchema()"
      ]
    },
    {
      "cell_type": "code",
      "execution_count": 22,
      "metadata": {
        "id": "5rqPCexv9dFV"
      },
      "outputs": [],
      "source": [
        "training_df,test_df = model_df.randomSplit([0.75,0.25])\n",
        "log_reg=LogisticRegression()"
      ]
    },
    {
      "cell_type": "code",
      "execution_count": 23,
      "metadata": {
        "id": "IXQYLmyMlxtG"
      },
      "outputs": [],
      "source": [
        "model = log_reg.fit(training_df)"
      ]
    },
    {
      "cell_type": "code",
      "execution_count": 24,
      "metadata": {
        "id": "LqI9XIXQ9pKE"
      },
      "outputs": [],
      "source": [
        "preds=model.transform(test_df)"
      ]
    },
    {
      "cell_type": "code",
      "execution_count": 25,
      "metadata": {
        "colab": {
          "base_uri": "https://localhost:8080/"
        },
        "id": "9ulmdo2_-sO8",
        "outputId": "8e10eb77-ad3f-4f4b-aa5c-01110678a80d"
      },
      "outputs": [
        {
          "name": "stdout",
          "output_type": "stream",
          "text": [
            "+-----+----------+\n",
            "|label|prediction|\n",
            "+-----+----------+\n",
            "|  0.0|       1.0|\n",
            "|  1.0|       1.0|\n",
            "|  1.0|       1.0|\n",
            "|  1.0|       1.0|\n",
            "|  0.0|       1.0|\n",
            "|  1.0|       1.0|\n",
            "|  1.0|       1.0|\n",
            "|  0.0|       1.0|\n",
            "|  1.0|       1.0|\n",
            "|  1.0|       1.0|\n",
            "|  1.0|       1.0|\n",
            "|  1.0|       1.0|\n",
            "|  1.0|       1.0|\n",
            "|  1.0|       1.0|\n",
            "|  0.0|       1.0|\n",
            "|  1.0|       1.0|\n",
            "|  0.0|       1.0|\n",
            "|  0.0|       1.0|\n",
            "|  1.0|       1.0|\n",
            "|  0.0|       1.0|\n",
            "|  1.0|       1.0|\n",
            "|  0.0|       1.0|\n",
            "|  1.0|       1.0|\n",
            "|  1.0|       1.0|\n",
            "|  1.0|       1.0|\n",
            "|  0.0|       1.0|\n",
            "|  1.0|       1.0|\n",
            "|  1.0|       1.0|\n",
            "|  1.0|       1.0|\n",
            "|  1.0|       1.0|\n",
            "|  0.0|       0.0|\n",
            "|  0.0|       1.0|\n",
            "|  0.0|       1.0|\n",
            "|  0.0|       1.0|\n",
            "|  0.0|       1.0|\n",
            "|  1.0|       1.0|\n",
            "|  0.0|       0.0|\n",
            "|  1.0|       0.0|\n",
            "|  1.0|       1.0|\n",
            "|  1.0|       1.0|\n",
            "|  0.0|       1.0|\n",
            "|  1.0|       0.0|\n",
            "|  0.0|       1.0|\n",
            "|  0.0|       1.0|\n",
            "|  0.0|       1.0|\n",
            "|  1.0|       1.0|\n",
            "|  1.0|       1.0|\n",
            "|  1.0|       1.0|\n",
            "|  1.0|       1.0|\n",
            "|  1.0|       1.0|\n",
            "+-----+----------+\n",
            "only showing top 50 rows\n",
            "\n"
          ]
        }
      ],
      "source": [
        "preds.select('label','prediction').show(50)"
      ]
    },
    {
      "cell_type": "code",
      "execution_count": 26,
      "metadata": {
        "colab": {
          "base_uri": "https://localhost:8080/"
        },
        "id": "qkChKC-NzGRP",
        "outputId": "65445468-4201-414c-e687-9f53c1d41e8c"
      },
      "outputs": [
        {
          "name": "stdout",
          "output_type": "stream",
          "text": [
            "+--------------------+-----+--------------------+--------------------+----------+\n",
            "|            features|label|       rawPrediction|         probability|prediction|\n",
            "+--------------------+-----+--------------------+--------------------+----------+\n",
            "|(21,[0,1,2,3,4,5,...|  0.0|[-0.5425622183828...|[0.36759174652488...|       1.0|\n",
            "|(21,[0,1,2,3,4,5,...|  1.0|[-0.9060197203516...|[0.28781501560864...|       1.0|\n",
            "|(21,[0,1,2,3,4,5,...|  1.0|[-0.7372412916359...|[0.32360769164237...|       1.0|\n",
            "|(21,[0,1,2,3,4,5,...|  1.0|[-0.7180855778284...|[0.32781469096783...|       1.0|\n",
            "|(21,[0,1,2,3,4,5,...|  0.0|[-0.7285772160135...|[0.32550702518896...|       1.0|\n",
            "|(21,[0,1,2,3,4,6,...|  1.0|[-0.4663938462225...|[0.38547012621296...|       1.0|\n",
            "|(21,[0,1,2,3,4,6,...|  1.0|[-0.0497303088299...|[0.48756998441329...|       1.0|\n",
            "|(21,[0,1,2,3,4,6,...|  0.0|[-0.7086881412423...|[0.32988877779296...|       1.0|\n",
            "|(21,[0,1,2,3,4,6,...|  1.0|[-0.8745087975035...|[0.29431698190966...|       1.0|\n",
            "|(21,[0,1,2,3,4,6,...|  1.0|[-0.4459127178874...|[0.39033299229532...|       1.0|\n",
            "|(21,[0,1,2,3,4,6,...|  1.0|[-3.5715526137685...|[0.02734348759485...|       1.0|\n",
            "|(21,[0,1,2,3,4,6,...|  1.0|[-0.6297608087864...|[0.34756477566674...|       1.0|\n",
            "|(21,[0,1,2,3,4,6,...|  1.0|[-0.9999563137217...|[0.26895001070030...|       1.0|\n",
            "|(21,[0,1,2,3,4,6,...|  1.0|[-2.0752392480714...|[0.11152683122369...|       1.0|\n",
            "|(21,[0,1,2,3,4,6,...|  0.0|[-1.1500478365499...|[0.24048034561814...|       1.0|\n",
            "|(21,[0,1,2,3,4,6,...|  1.0|[-1.7275415655669...|[0.15090231065337...|       1.0|\n",
            "|(21,[0,1,2,3,4,6,...|  0.0|[-0.8085637094447...|[0.30819664493087...|       1.0|\n",
            "|(21,[0,1,2,3,4,6,...|  0.0|[-0.6793035503660...|[0.33641676065949...|       1.0|\n",
            "|(21,[0,1,2,3,4,6,...|  1.0|[-0.0294491472041...|[0.49263824523280...|       1.0|\n",
            "|(21,[0,1,2,3,4,6,...|  0.0|[-1.2642982484906...|[0.22023486015506...|       1.0|\n",
            "+--------------------+-----+--------------------+--------------------+----------+\n",
            "only showing top 20 rows\n",
            "\n"
          ]
        }
      ],
      "source": [
        "preds.show()"
      ]
    },
    {
      "cell_type": "code",
      "execution_count": 47,
      "metadata": {
        "id": "aHM82gStHyOC"
      },
      "outputs": [],
      "source": [
        "def get_f1(predictions):\n",
        "  preds=predictions.select('prediction').rdd.flatMap(lambda x: x).collect()\n",
        "  tru=predictions.select('label').rdd.flatMap(lambda x: x).collect()\n",
        "  return f1_score(tru,preds)"
      ]
    },
    {
      "cell_type": "code",
      "execution_count": 49,
      "metadata": {
        "colab": {
          "base_uri": "https://localhost:8080/"
        },
        "id": "SETXJRCJxgd-",
        "outputId": "aa82a447-9946-4fa0-e02a-4b6287b2cc4a"
      },
      "outputs": [
        {
          "name": "stdout",
          "output_type": "stream",
          "text": [
            "F1 SCORE: 0.7535199510267684\n"
          ]
        }
      ],
      "source": [
        "print(f'F1 SCORE: {get_f1(preds)}')"
      ]
    }
  ],
  "metadata": {
    "colab": {
      "provenance": []
    },
    "kernelspec": {
      "display_name": "Python 3",
      "name": "python3"
    },
    "language_info": {
      "name": "python"
    }
  },
  "nbformat": 4,
  "nbformat_minor": 0
}
